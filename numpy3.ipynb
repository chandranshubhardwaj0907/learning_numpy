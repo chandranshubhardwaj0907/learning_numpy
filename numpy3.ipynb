{
 "cells": [
  {
   "cell_type": "code",
   "execution_count": 2,
   "id": "8a64fd4a",
   "metadata": {},
   "outputs": [
    {
     "name": "stdout",
     "output_type": "stream",
     "text": [
      "10\n",
      "40\n"
     ]
    }
   ],
   "source": [
    "# indexing in numpy arrays\n",
    "import numpy as np\n",
    "arr = np.array([10, 20, 30, 40])\n",
    "print(arr[0])  # 10\n",
    "print(arr[-1]) # 40"
   ]
  },
  {
   "cell_type": "code",
   "execution_count": 3,
   "id": "196983ef",
   "metadata": {},
   "outputs": [
    {
     "name": "stdout",
     "output_type": "stream",
     "text": [
      "[20 30 40]\n",
      "[10 20 30]\n",
      "[10 30 50]\n"
     ]
    }
   ],
   "source": [
    "arr = np.array([10, 20, 30, 40, 50])\n",
    "\n",
    "print(arr[1:4])  # [20 30 40] (slice from index 1 to 3)\n",
    "print(arr[:3])   # [10 20 30] (first 3 elements)\n",
    "print(arr[::2])  # [10 30 50] (every 2nd element)"
   ]
  },
  {
   "cell_type": "code",
   "execution_count": null,
   "id": "e561f0e8",
   "metadata": {},
   "outputs": [],
   "source": [
    "# slicing returns a view of the original array. Both the sliced array and the original array share the same data in memory, so changes in the slice affect the original array.\n"
   ]
  },
  {
   "cell_type": "code",
   "execution_count": 4,
   "id": "7293af67",
   "metadata": {},
   "outputs": [],
   "source": [
    "b = arr[1:4]"
   ]
  },
  {
   "cell_type": "code",
   "execution_count": 5,
   "id": "6963d144",
   "metadata": {},
   "outputs": [
    {
     "data": {
      "text/plain": [
       "array([20, 30, 40])"
      ]
     },
     "execution_count": 5,
     "metadata": {},
     "output_type": "execute_result"
    }
   ],
   "source": [
    "b"
   ]
  },
  {
   "cell_type": "code",
   "execution_count": 6,
   "id": "4fcf9caa",
   "metadata": {},
   "outputs": [],
   "source": [
    "b[0] = 99  # change the first element of the slice"
   ]
  },
  {
   "cell_type": "code",
   "execution_count": 7,
   "id": "ce85bdec",
   "metadata": {},
   "outputs": [
    {
     "data": {
      "text/plain": [
       "array([99, 30, 40])"
      ]
     },
     "execution_count": 7,
     "metadata": {},
     "output_type": "execute_result"
    }
   ],
   "source": [
    "b"
   ]
  },
  {
   "cell_type": "code",
   "execution_count": 8,
   "id": "ff4f1666",
   "metadata": {},
   "outputs": [
    {
     "data": {
      "text/plain": [
       "array([10, 30, 40])"
      ]
     },
     "execution_count": 8,
     "metadata": {},
     "output_type": "execute_result"
    }
   ],
   "source": [
    "arr2  = np.array([10, 99, 30, 40, 50]) \n",
    "idx =[0 , 2 ,3]\n",
    "# advanced indexing\n",
    "arr2[idx]  # [10 30 40] (select elements at indices"
   ]
  },
  {
   "cell_type": "code",
   "execution_count": 9,
   "id": "ed6b23b0",
   "metadata": {},
   "outputs": [
    {
     "name": "stdout",
     "output_type": "stream",
     "text": [
      "[40 50 60]\n"
     ]
    }
   ],
   "source": [
    "arr3 = np.array([[10, 20, 30], [40, 50, 60]])\n",
    "arr3.flatten()\n",
    "mask = arr3>30\n",
    "print(arr3[mask])  # [40 50 60] (select elements greater than 30)"
   ]
  },
  {
   "cell_type": "code",
   "execution_count": null,
   "id": "19de2d0a",
   "metadata": {},
   "outputs": [],
   "source": [
    "# Create a 3×3 array filled with random numbers and print its shape.\n",
    "# Convert an array of floats [1.1, 2.2, 3.3] into integers.\n",
    "# Use fancy indexing to extract even numbers from [1, 2, 3, 4, 5, 6].\n",
    "# Reshape a 1D array of size 9 into a 3×3 matrix.\n",
    "# Use boolean masking to filter numbers greater than 50 in an array."
   ]
  },
  {
   "cell_type": "code",
   "execution_count": 11,
   "id": "0a689268",
   "metadata": {},
   "outputs": [
    {
     "name": "stdout",
     "output_type": "stream",
     "text": [
      "[[0.15962652 0.30979987 0.40812192]\n",
      " [0.08499488 0.71841598 0.9741766 ]\n",
      " [0.75839791 0.59433359 0.79178527]]\n",
      "(3, 3)\n"
     ]
    }
   ],
   "source": [
    "arr4 = np.random.rand(3, 3)\n",
    "print(arr4)  # (3, 3)\n",
    "print(arr4.shape)  # (3, 3)"
   ]
  },
  {
   "cell_type": "code",
   "execution_count": 12,
   "id": "c5b2c056",
   "metadata": {},
   "outputs": [
    {
     "name": "stdout",
     "output_type": "stream",
     "text": [
      "[1 2 3]\n"
     ]
    }
   ],
   "source": [
    "float_array = np.array([1.1, 2.2, 3.3])\n",
    "int_array = float_array.astype(int)\n",
    "print(int_array)  # [1 2 3]"
   ]
  },
  {
   "cell_type": "code",
   "execution_count": 13,
   "id": "4272f2b9",
   "metadata": {},
   "outputs": [
    {
     "name": "stdout",
     "output_type": "stream",
     "text": [
      "[2 4 6]\n"
     ]
    }
   ],
   "source": [
    "arr5 = np.array([1, 2, 3, 4, 5, 6])\n",
    "even_number = arr5[arr5%2==0]\n",
    "print(even_number)  # [2 4 6]\n"
   ]
  },
  {
   "cell_type": "code",
   "execution_count": 17,
   "id": "1856ff40",
   "metadata": {},
   "outputs": [
    {
     "name": "stdout",
     "output_type": "stream",
     "text": [
      "[0 1 2 3 4 5 6 7 8]\n",
      "changed_array\n",
      "[[0 1 2]\n",
      " [3 4 5]\n",
      " [6 7 8]]\n"
     ]
    }
   ],
   "source": [
    "arr6 = np.arange(9)  # Create a 1D array of size 9\n",
    "print(arr6)  # [0 1 2 3 4 5 6 7 8]\n",
    "print(\"changed_array\")\n",
    "reshaped_array = arr6.reshape(3, 3)  # Reshape into a 3x3 matrix\n",
    "print(reshaped_array)"
   ]
  },
  {
   "cell_type": "code",
   "execution_count": 14,
   "id": "9a37ad47",
   "metadata": {},
   "outputs": [
    {
     "name": "stdout",
     "output_type": "stream",
     "text": [
      "Numbers greater than 50: [60 80 55]\n"
     ]
    }
   ],
   "source": [
    "sample_array = np.array([10, 60, 30, 80, 45, 55])\n",
    "filtered_array = sample_array[sample_array > 50]\n",
    "print(\"Numbers greater than 50:\", filtered_array)"
   ]
  },
  {
   "cell_type": "code",
   "execution_count": null,
   "id": "38c49587",
   "metadata": {},
   "outputs": [],
   "source": []
  }
 ],
 "metadata": {
  "kernelspec": {
   "display_name": "myenv",
   "language": "python",
   "name": "python3"
  },
  "language_info": {
   "codemirror_mode": {
    "name": "ipython",
    "version": 3
   },
   "file_extension": ".py",
   "mimetype": "text/x-python",
   "name": "python",
   "nbconvert_exporter": "python",
   "pygments_lexer": "ipython3",
   "version": "3.13.5"
  }
 },
 "nbformat": 4,
 "nbformat_minor": 5
}
