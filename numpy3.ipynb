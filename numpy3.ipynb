{
 "cells": [
  {
   "cell_type": "code",
   "execution_count": 2,
   "id": "8a64fd4a",
   "metadata": {},
   "outputs": [
    {
     "name": "stdout",
     "output_type": "stream",
     "text": [
      "10\n",
      "40\n"
     ]
    }
   ],
   "source": [
    "# indexing in numpy arrays\n",
    "import numpy as np\n",
    "arr = np.array([10, 20, 30, 40])\n",
    "print(arr[0])  # 10\n",
    "print(arr[-1]) # 40"
   ]
  },
  {
   "cell_type": "code",
   "execution_count": 3,
   "id": "196983ef",
   "metadata": {},
   "outputs": [
    {
     "name": "stdout",
     "output_type": "stream",
     "text": [
      "[20 30 40]\n",
      "[10 20 30]\n",
      "[10 30 50]\n"
     ]
    }
   ],
   "source": [
    "arr = np.array([10, 20, 30, 40, 50])\n",
    "\n",
    "print(arr[1:4])  # [20 30 40] (slice from index 1 to 3)\n",
    "print(arr[:3])   # [10 20 30] (first 3 elements)\n",
    "print(arr[::2])  # [10 30 50] (every 2nd element)"
   ]
  },
  {
   "cell_type": "code",
   "execution_count": null,
   "id": "e561f0e8",
   "metadata": {},
   "outputs": [],
   "source": [
    "# slicing returns a view of the original array. Both the sliced array and the original array share the same data in memory, so changes in the slice affect the original array.\n"
   ]
  },
  {
   "cell_type": "code",
   "execution_count": 4,
   "id": "7293af67",
   "metadata": {},
   "outputs": [],
   "source": [
    "b = arr[1:4]"
   ]
  },
  {
   "cell_type": "code",
   "execution_count": 5,
   "id": "6963d144",
   "metadata": {},
   "outputs": [
    {
     "data": {
      "text/plain": [
       "array([20, 30, 40])"
      ]
     },
     "execution_count": 5,
     "metadata": {},
     "output_type": "execute_result"
    }
   ],
   "source": [
    "b"
   ]
  },
  {
   "cell_type": "code",
   "execution_count": 6,
   "id": "4fcf9caa",
   "metadata": {},
   "outputs": [],
   "source": [
    "b[0] = 99  # change the first element of the slice"
   ]
  },
  {
   "cell_type": "code",
   "execution_count": 7,
   "id": "ce85bdec",
   "metadata": {},
   "outputs": [
    {
     "data": {
      "text/plain": [
       "array([99, 30, 40])"
      ]
     },
     "execution_count": 7,
     "metadata": {},
     "output_type": "execute_result"
    }
   ],
   "source": [
    "b"
   ]
  },
  {
   "cell_type": "code",
   "execution_count": 8,
   "id": "ff4f1666",
   "metadata": {},
   "outputs": [
    {
     "data": {
      "text/plain": [
       "array([10, 30, 40])"
      ]
     },
     "execution_count": 8,
     "metadata": {},
     "output_type": "execute_result"
    }
   ],
   "source": [
    "arr2  = np.array([10, 99, 30, 40, 50]) \n",
    "idx =[0 , 2 ,3]\n",
    "# advanced indexing\n",
    "arr2[idx]  # [10 30 40] (select elements at indices"
   ]
  },
  {
   "cell_type": "code",
   "execution_count": 9,
   "id": "ed6b23b0",
   "metadata": {},
   "outputs": [
    {
     "name": "stdout",
     "output_type": "stream",
     "text": [
      "[40 50 60]\n"
     ]
    }
   ],
   "source": [
    "arr3 = np.array([[10, 20, 30], [40, 50, 60]])\n",
    "arr3.flatten()\n",
    "mask = arr3>30\n",
    "print(arr3[mask])  # [40 50 60] (select elements greater than 30)"
   ]
  },
  {
   "cell_type": "code",
   "execution_count": null,
   "id": "19de2d0a",
   "metadata": {},
   "outputs": [],
   "source": []
  }
 ],
 "metadata": {
  "kernelspec": {
   "display_name": "myenv",
   "language": "python",
   "name": "python3"
  },
  "language_info": {
   "codemirror_mode": {
    "name": "ipython",
    "version": 3
   },
   "file_extension": ".py",
   "mimetype": "text/x-python",
   "name": "python",
   "nbconvert_exporter": "python",
   "pygments_lexer": "ipython3",
   "version": "3.13.5"
  }
 },
 "nbformat": 4,
 "nbformat_minor": 5
}
