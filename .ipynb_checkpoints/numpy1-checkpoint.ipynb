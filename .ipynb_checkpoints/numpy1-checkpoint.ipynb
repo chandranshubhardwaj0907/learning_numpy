{
 "cells": [
  {
   "cell_type": "code",
   "execution_count": null,
   "id": "75f6fdf3-8cb2-4a1e-9919-c5a99f3e428f",
   "metadata": {},
   "outputs": [
    {
     "name": "stdout",
     "output_type": "stream",
     "text": [
      "Collecting numpy\n",
      "  Downloading numpy-2.3.1-cp313-cp313-win_amd64.whl.metadata (60 kB)\n",
      "Downloading numpy-2.3.1-cp313-cp313-win_amd64.whl (12.7 MB)\n",
      "   ---------------------------------------- 0.0/12.7 MB ? eta -:--:--\n",
      "    --------------------------------------- 0.3/12.7 MB ? eta -:--:--\n",
      "   - -------------------------------------- 0.5/12.7 MB 1.9 MB/s eta 0:00:07\n",
      "   --- ------------------------------------ 1.0/12.7 MB 1.9 MB/s eta 0:00:07\n",
      "   ---- ----------------------------------- 1.6/12.7 MB 2.0 MB/s eta 0:00:06\n",
      "   ----- ---------------------------------- 1.8/12.7 MB 2.0 MB/s eta 0:00:06\n",
      "   ------- -------------------------------- 2.4/12.7 MB 2.1 MB/s eta 0:00:05\n",
      "   --------- ------------------------------ 2.9/12.7 MB 2.1 MB/s eta 0:00:05\n",
      "   --------- ------------------------------ 3.1/12.7 MB 2.1 MB/s eta 0:00:05\n",
      "   ---------- ----------------------------- 3.4/12.7 MB 2.0 MB/s eta 0:00:05\n",
      "   ------------ --------------------------- 3.9/12.7 MB 2.0 MB/s eta 0:00:05\n",
      "   -------------- ------------------------- 4.5/12.7 MB 2.0 MB/s eta 0:00:05\n",
      "   --------------- ------------------------ 5.0/12.7 MB 2.1 MB/s eta 0:00:04\n",
      "   ----------------- ---------------------- 5.5/12.7 MB 2.1 MB/s eta 0:00:04\n",
      "   ------------------ --------------------- 6.0/12.7 MB 2.1 MB/s eta 0:00:04\n",
      "   -------------------- ------------------- 6.6/12.7 MB 2.1 MB/s eta 0:00:03\n",
      "   ---------------------- ----------------- 7.1/12.7 MB 2.1 MB/s eta 0:00:03\n",
      "   ----------------------- ---------------- 7.3/12.7 MB 2.1 MB/s eta 0:00:03\n",
      "   ------------------------ --------------- 7.9/12.7 MB 2.1 MB/s eta 0:00:03\n",
      "   ------------------------- -------------- 8.1/12.7 MB 2.1 MB/s eta 0:00:03\n",
      "   --------------------------- ------------ 8.7/12.7 MB 2.1 MB/s eta 0:00:02\n",
      "   ---------------------------- ----------- 9.2/12.7 MB 2.1 MB/s eta 0:00:02\n",
      "   ------------------------------ --------- 9.7/12.7 MB 2.1 MB/s eta 0:00:02\n",
      "   -------------------------------- ------- 10.2/12.7 MB 2.1 MB/s eta 0:00:02\n",
      "   --------------------------------- ------ 10.7/12.7 MB 2.1 MB/s eta 0:00:01\n",
      "   ----------------------------------- ---- 11.3/12.7 MB 2.1 MB/s eta 0:00:01\n",
      "   ------------------------------------ --- 11.5/12.7 MB 2.1 MB/s eta 0:00:01\n",
      "   ------------------------------------- -- 12.1/12.7 MB 2.1 MB/s eta 0:00:01\n",
      "   ---------------------------------------  12.6/12.7 MB 2.2 MB/s eta 0:00:01\n",
      "   ---------------------------------------- 12.7/12.7 MB 2.1 MB/s eta 0:00:00\n",
      "Installing collected packages: numpy\n",
      "Successfully installed numpy-2.3.1\n"
     ]
    }
   ],
   "source": [
    "!pip install numpy\n",
    "\n"
   ]
  },
  {
   "cell_type": "code",
   "execution_count": null,
   "id": "9f879d69-bb11-440f-8e17-4c8cda4b5ff6",
   "metadata": {},
   "outputs": [],
   "source": [
    "import numpy as np\n"
   ]
  },
  {
   "cell_type": "code",
   "execution_count": null,
   "id": "8d10a0ab-a1f9-48d1-a16f-7a2487b806a0",
   "metadata": {},
   "outputs": [],
   "source": [
    "import time"
   ]
  },
  {
   "cell_type": "code",
   "execution_count": null,
   "id": "9fcee2a0-4fa2-4def-a1af-f2939215532f",
   "metadata": {},
   "outputs": [
    {
     "name": "stdout",
     "output_type": "stream",
     "text": [
      "0.11998581886291504\n"
     ]
    }
   ],
   "source": [
    "# time with using list\n",
    "size = 1_000_000\n",
    "list1 = list(range(size))\n",
    "list2 = list(range(size))\n",
    "start = time.time()\n",
    "result = [x+y for x,y in zip(list1,list2)]\n",
    "end = time.time()\n",
    "\n",
    "print(end-start)"
   ]
  },
  {
   "cell_type": "code",
   "execution_count": null,
   "id": "0b03baaf-1926-49d3-a4a8-bbbfd7e98128",
   "metadata": {},
   "outputs": [
    {
     "name": "stdout",
     "output_type": "stream",
     "text": [
      "0.01843118667602539\n"
     ]
    }
   ],
   "source": [
    "# time with using numpy\n",
    "size = 1_000_000\n",
    "list1 =np.array(list(range(size)))\n",
    "list2 = np.array(list(range(size)))\n",
    "start = time.time()\n",
    "result = list1 + list2\n",
    "end = time.time()\n",
    "\n",
    "print(end-start)"
   ]
  },
  {
   "cell_type": "code",
   "execution_count": null,
   "id": "0cbd5bc3-a207-47b5-b3cf-b3c7dad04393",
   "metadata": {},
   "outputs": [
    {
     "name": "stdout",
     "output_type": "stream",
     "text": [
      "[1 2 3 4 5]\n"
     ]
    }
   ],
   "source": [
    "# 1d array\n",
    "arr1 = np.array([1,2,3,4,5])\n",
    "print(arr1)"
   ]
  },
  {
   "cell_type": "code",
   "execution_count": null,
   "id": "059a2930-af60-49ae-b0a4-8cdec6253b88",
   "metadata": {},
   "outputs": [
    {
     "name": "stdout",
     "output_type": "stream",
     "text": [
      "[[1 2 3]\n",
      " [4 5 6]]\n"
     ]
    }
   ],
   "source": [
    "# 2d array\n",
    "arr2 = np.array([[1,2,3],[4,5,6]])\n",
    "print(arr2)"
   ]
  },
  {
   "cell_type": "code",
   "execution_count": null,
   "id": "a40e1591-919f-41e1-bec0-4d85876fa4fd",
   "metadata": {},
   "outputs": [
    {
     "name": "stdout",
     "output_type": "stream",
     "text": [
      "7.796287536621094e-05\n"
     ]
    }
   ],
   "source": [
    "x=[1,2,3]\n",
    "start = time.time()\n",
    "list_square = [x ** 2 for x in x]\n",
    "end = time.time()\n",
    "print(end-start)\n"
   ]
  },
  {
   "cell_type": "code",
   "execution_count": 19,
   "id": "5366888f-e162-4729-90a6-4e8aefd0bd17",
   "metadata": {},
   "outputs": [
    {
     "name": "stdout",
     "output_type": "stream",
     "text": [
      "0.00011920928955078125\n"
     ]
    }
   ],
   "source": [
    "x= np.array([1,2,3])\n",
    "start = time.time()\n",
    "square = x ** 2\n",
    "end = time.time()\n",
    "print(end-start)"
   ]
  },
  {
   "cell_type": "code",
   "execution_count": null,
   "id": "f3f4a4b6-9d1f-4afe-b8b1-51bd045419ed",
   "metadata": {},
   "outputs": [],
   "source": []
  }
 ],
 "metadata": {
  "kernelspec": {
   "display_name": "Python 3 (ipykernel)",
   "language": "python",
   "name": "python3"
  },
  "language_info": {
   "codemirror_mode": {
    "name": "ipython",
    "version": 3
   },
   "file_extension": ".py",
   "mimetype": "text/x-python",
   "name": "python",
   "nbconvert_exporter": "python",
   "pygments_lexer": "ipython3",
   "version": "3.13.5"
  }
 },
 "nbformat": 4,
 "nbformat_minor": 5
}
