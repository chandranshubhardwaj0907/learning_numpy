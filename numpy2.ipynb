{
 "cells": [
  {
   "cell_type": "code",
   "execution_count": 27,
   "id": "a2e5b066-f384-4e9e-a047-ec6cc51ad7d1",
   "metadata": {},
   "outputs": [],
   "source": [
    "# creating numpy arrays"
   ]
  },
  {
   "cell_type": "code",
   "execution_count": 28,
   "id": "0fe18f94-2060-49cc-8a0c-9148cdb47ae7",
   "metadata": {},
   "outputs": [],
   "source": [
    "import numpy as np"
   ]
  },
  {
   "cell_type": "code",
   "execution_count": 29,
   "id": "66b33ab3-6b66-44f8-ae38-f6a1fe014855",
   "metadata": {},
   "outputs": [
    {
     "name": "stdout",
     "output_type": "stream",
     "text": [
      "[1 2 3 4 5]\n",
      "[[1 2 3]\n",
      " [4 5 6]]\n"
     ]
    }
   ],
   "source": [
    "arr1 = np.array([1, 2, 3, 4, 5])  # 1D array\n",
    "arr2 = np.array([[1, 2, 3], [4, 5, 6]])  # 2D array\n",
    " \n",
    "print(arr1)  \n",
    "print(arr2)  "
   ]
  },
  {
   "cell_type": "code",
   "execution_count": 30,
   "id": "5c2cd13b-70c4-49ed-ae14-2d9dc34b467e",
   "metadata": {},
   "outputs": [
    {
     "data": {
      "text/plain": [
       "array([[0., 0., 0.],\n",
       "       [0., 0., 0.],\n",
       "       [0., 0., 0.]])"
      ]
     },
     "execution_count": 30,
     "metadata": {},
     "output_type": "execute_result"
    }
   ],
   "source": [
    "np.zeros((3, 3))    # 3x3 array of zeros\n"
   ]
  },
  {
   "cell_type": "code",
   "execution_count": 31,
   "id": "b4f89c97-0366-410f-9018-c2b22b27fd53",
   "metadata": {},
   "outputs": [
    {
     "data": {
      "text/plain": [
       "array([[1., 1., 1., 1., 1.],\n",
       "       [1., 1., 1., 1., 1.],\n",
       "       [1., 1., 1., 1., 1.]])"
      ]
     },
     "execution_count": 31,
     "metadata": {},
     "output_type": "execute_result"
    }
   ],
   "source": [
    "np.ones((3,5))"
   ]
  },
  {
   "cell_type": "code",
   "execution_count": 32,
   "id": "ff6fbba4-91c7-4358-821c-a4fdf0b2a345",
   "metadata": {},
   "outputs": [
    {
     "data": {
      "text/plain": [
       "array([[8, 8, 8, 8, 8, 8],\n",
       "       [8, 8, 8, 8, 8, 8],\n",
       "       [8, 8, 8, 8, 8, 8],\n",
       "       [8, 8, 8, 8, 8, 8]])"
      ]
     },
     "execution_count": 32,
     "metadata": {},
     "output_type": "execute_result"
    }
   ],
   "source": [
    "np.full((4,6),8)"
   ]
  },
  {
   "cell_type": "code",
   "execution_count": 33,
   "id": "010bb897-b02f-489d-a2e3-18f5b6213e95",
   "metadata": {},
   "outputs": [
    {
     "data": {
      "text/plain": [
       "array([[1., 0., 0., 0.],\n",
       "       [0., 1., 0., 0.],\n",
       "       [0., 0., 1., 0.],\n",
       "       [0., 0., 0., 1.]])"
      ]
     },
     "execution_count": 33,
     "metadata": {},
     "output_type": "execute_result"
    }
   ],
   "source": [
    "np.eye(4)"
   ]
  },
  {
   "cell_type": "code",
   "execution_count": 34,
   "id": "38845025-40f7-4c7f-995f-ee7dbba6165e",
   "metadata": {},
   "outputs": [
    {
     "data": {
      "text/plain": [
       "array([1, 3, 5, 7, 9])"
      ]
     },
     "execution_count": 34,
     "metadata": {},
     "output_type": "execute_result"
    }
   ],
   "source": [
    "np.arange(1,10,2)"
   ]
  },
  {
   "cell_type": "code",
   "execution_count": 35,
   "id": "709a25dc-9a95-4e67-aed4-d0f4fc63b743",
   "metadata": {},
   "outputs": [
    {
     "data": {
      "text/plain": [
       "array([0.  , 0.25, 0.5 , 0.75, 1.  ])"
      ]
     },
     "execution_count": 35,
     "metadata": {},
     "output_type": "execute_result"
    }
   ],
   "source": [
    "np.linspace(0, 1, 5)"
   ]
  },
  {
   "cell_type": "code",
   "execution_count": 36,
   "id": "ca77ab54-a74c-4eda-b15f-ce11b9411f29",
   "metadata": {},
   "outputs": [
    {
     "name": "stdout",
     "output_type": "stream",
     "text": [
      "Shape: (2, 3)\n",
      "Size: 6\n"
     ]
    }
   ],
   "source": [
    "arr = np.array([[10, 20, 30], [40, 50, 60]])\n",
    "print(\"Shape:\", arr.shape)   # (2, 3) → 2 rows, 3 columns\n",
    "print(\"Size:\", arr.size) "
   ]
  },
  {
   "cell_type": "code",
   "execution_count": 37,
   "id": "54e8f1d9-103a-4db4-b7d5-c73b1a0bb0ea",
   "metadata": {},
   "outputs": [
    {
     "name": "stdout",
     "output_type": "stream",
     "text": [
      "Dimensions: 2\n",
      "Data type: int64\n"
     ]
    }
   ],
   "source": [
    "print(\"Dimensions:\", arr.ndim) # 2 → 2D array\n",
    "print(\"Data type:\", arr.dtype)"
   ]
  },
  {
   "cell_type": "code",
   "execution_count": 38,
   "id": "e359b617-ae09-4fd8-bdb8-7604c3c9149d",
   "metadata": {},
   "outputs": [],
   "source": [
    "arr = np.array([[10, 20, 30], [40, 50, 60]], dtype='float32') # explicit"
   ]
  },
  {
   "cell_type": "code",
   "execution_count": 39,
   "id": "0d23322a-6f38-48d6-bd8b-316d299188df",
   "metadata": {},
   "outputs": [
    {
     "data": {
      "text/plain": [
       "array([[10., 20., 30.],\n",
       "       [40., 50., 60.]], dtype=float32)"
      ]
     },
     "execution_count": 39,
     "metadata": {},
     "output_type": "execute_result"
    }
   ],
   "source": [
    "arr"
   ]
  },
  {
   "cell_type": "code",
   "execution_count": 40,
   "id": "375062f0-9a0a-4db1-af01-3fe456dbe13c",
   "metadata": {},
   "outputs": [
    {
     "name": "stdout",
     "output_type": "stream",
     "text": [
      "(2, 3)\n",
      "[[1 2]\n",
      " [3 4]\n",
      " [5 6]]\n",
      "[1 2 3 4 5 6]\n"
     ]
    }
   ],
   "source": [
    "arr = np.array([[1, 2, 3], [4, 5, 6]])\n",
    "print(arr.shape)  # (2, 3)\n",
    " \n",
    "reshaped = arr.reshape((3, 2))  # Change shape\n",
    "print(reshaped)\n",
    "# [[1 2]\n",
    "#  [3 4]\n",
    "#  [5 6]]\n",
    " \n",
    "flattened = arr.flatten()  # Convert 2D → 1D\n",
    "print(flattened)  # [1 2 3 4 5 6]"
   ]
  },
  {
   "cell_type": "code",
   "execution_count": 41,
   "id": "aafeeea9-857a-4e35-95cd-650cdd2a1442",
   "metadata": {},
   "outputs": [
    {
     "name": "stdout",
     "output_type": "stream",
     "text": [
      "(2, 3)\n",
      "[[1 2]\n",
      " [3 4]\n",
      " [5 6]]\n",
      "[1 2 3 4 5 6]\n"
     ]
    }
   ],
   "source": [
    "arr = np.array([[1, 2, 3], [4, 5, 6]])\n",
    "print(arr.shape)  # (2, 3)\n",
    " \n",
    "reshaped = arr.reshape((3, 2))  # Change shape\n",
    "print(reshaped)\n",
    "# [[1 2]\n",
    "#  [3 4]\n",
    "#  [5 6]]\n",
    " \n",
    "flattened = arr.flatten()  # Convert 2D → 1D\n",
    "print(flattened)  # [1 2 3 4 5 6]"
   ]
  }
 ],
 "metadata": {
  "kernelspec": {
   "display_name": "myenv",
   "language": "python",
   "name": "python3"
  },
  "language_info": {
   "codemirror_mode": {
    "name": "ipython",
    "version": 3
   },
   "file_extension": ".py",
   "mimetype": "text/x-python",
   "name": "python",
   "nbconvert_exporter": "python",
   "pygments_lexer": "ipython3",
   "version": "3.13.5"
  }
 },
 "nbformat": 4,
 "nbformat_minor": 5
}
