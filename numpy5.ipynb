{
 "cells": [
  {
   "cell_type": "code",
   "execution_count": 1,
   "id": "507ef734",
   "metadata": {},
   "outputs": [],
   "source": [
    "# data types in numpy\n",
    "import numpy as np"
   ]
  },
  {
   "cell_type": "code",
   "execution_count": null,
   "id": "c29e1b13",
   "metadata": {},
   "outputs": [],
   "source": [
    "# int32, int64: Integer types with different bit sizes.\n",
    "# float32, float64: Floating-point types with different precision.\n",
    "# bool: Boolean data type.\n",
    "# complex64, complex128: Complex number types.\n",
    "# object: For storing objects (e.g., Python objects, strings)."
   ]
  },
  {
   "cell_type": "code",
   "execution_count": 2,
   "id": "8c1ff1c4",
   "metadata": {},
   "outputs": [
    {
     "name": "stdout",
     "output_type": "stream",
     "text": [
      "int64\n"
     ]
    }
   ],
   "source": [
    "arr = np.array([23,40,50])\n",
    "arr.dtype  # Check the data type of the array   \n",
    "\n",
    "print(arr.dtype)  # Output: int64 (or int32 depending on the system)"
   ]
  },
  {
   "cell_type": "code",
   "execution_count": 7,
   "id": "df550cd1",
   "metadata": {},
   "outputs": [
    {
     "name": "stdout",
     "output_type": "stream",
     "text": [
      "float64\n"
     ]
    }
   ],
   "source": [
    "arr.astype(\"float64\")  # Convert the array to float64 type\n",
    "arr_float = arr.astype(\"float64\")\n",
    "print(arr_float.dtype)  # Output: float64"
   ]
  },
  {
   "cell_type": "code",
   "execution_count": 8,
   "id": "2fc31779",
   "metadata": {},
   "outputs": [
    {
     "data": {
      "text/plain": [
       "24"
      ]
     },
     "execution_count": 8,
     "metadata": {},
     "output_type": "execute_result"
    }
   ],
   "source": [
    "arr.nbytes"
   ]
  },
  {
   "cell_type": "code",
   "execution_count": 10,
   "id": "d0bad870",
   "metadata": {},
   "outputs": [
    {
     "name": "stdout",
     "output_type": "stream",
     "text": [
      "['apple' 'banana' 'cherry']\n"
     ]
    }
   ],
   "source": [
    "# string data type\n",
    "arr_str = np.array([\"apple\", \"banana\", \"cherry\"])\n",
    "print(arr_str)  # Output: <U6 (Unicode string with max length 6)"
   ]
  },
  {
   "cell_type": "code",
   "execution_count": 11,
   "id": "bf9759b8",
   "metadata": {},
   "outputs": [
    {
     "name": "stdout",
     "output_type": "stream",
     "text": [
      "[1.+2.j 3.+4.j 5.+6.j]\n"
     ]
    }
   ],
   "source": [
    "arr = np.array([1 + 2j, 3 + 4j, 5 + 6j], dtype='complex128')\n",
    "print(arr)"
   ]
  },
  {
   "cell_type": "code",
   "execution_count": 12,
   "id": "b7dbe175",
   "metadata": {},
   "outputs": [
    {
     "name": "stdout",
     "output_type": "stream",
     "text": [
      "[{'a': 1, 'b': 2} {'c': 3, 'd': 4}]\n"
     ]
    }
   ],
   "source": [
    "# object data type\n",
    "arr_onj = np.array([{'a':1, 'b':2}, {'c':3, 'd':4}])\n",
    "print(arr_onj)  # Output: array of objects (dictionaries in this case)"
   ]
  },
  {
   "cell_type": "code",
   "execution_count": null,
   "id": "366bc407",
   "metadata": {},
   "outputs": [],
   "source": []
  }
 ],
 "metadata": {
  "kernelspec": {
   "display_name": "myenv",
   "language": "python",
   "name": "python3"
  },
  "language_info": {
   "codemirror_mode": {
    "name": "ipython",
    "version": 3
   },
   "file_extension": ".py",
   "mimetype": "text/x-python",
   "name": "python",
   "nbconvert_exporter": "python",
   "pygments_lexer": "ipython3",
   "version": "3.13.5"
  }
 },
 "nbformat": 4,
 "nbformat_minor": 5
}
