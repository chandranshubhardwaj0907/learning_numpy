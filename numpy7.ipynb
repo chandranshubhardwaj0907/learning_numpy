{
 "cells": [
  {
   "cell_type": "code",
   "execution_count": 1,
   "id": "98848f74",
   "metadata": {},
   "outputs": [],
   "source": [
    "# Built in Mathematical Functions in NumPy\n",
    "import numpy as np  "
   ]
  },
  {
   "cell_type": "code",
   "execution_count": 2,
   "id": "0f60170d",
   "metadata": {},
   "outputs": [],
   "source": [
    "arr = np.array([3,5,1,3,1,2,4,5,6,7,8,9,10])\n",
    "# Finding the maximum value in the array\n",
    "max_value = np.max(arr)\n",
    "# Finding the minimum value in the array\n",
    "min_value = np.min(arr)\n",
    "# Finding the sum of all elements in the array\n",
    "sum_value = np.sum(arr)"
   ]
  },
  {
   "cell_type": "code",
   "execution_count": 3,
   "id": "87a75c8b",
   "metadata": {},
   "outputs": [
    {
     "name": "stdout",
     "output_type": "stream",
     "text": [
      "10\n",
      "1\n",
      "64\n"
     ]
    }
   ],
   "source": [
    "print(max_value)  # Output: 10\n",
    "print(min_value)  # Output: 1\n",
    "print(sum_value)  # Output: 56"
   ]
  },
  {
   "cell_type": "code",
   "execution_count": 4,
   "id": "26d0ac9d",
   "metadata": {},
   "outputs": [],
   "source": [
    "# Calculate the mean (average) of all elements in the array\n",
    "mean = arr.mean()\n",
    "\n",
    "# Calculate the product of all elements in the array\n",
    "prd = arr.prod()\n",
    "\n",
    "# Calculate the standard deviation (measure of spread or dispersion)\n",
    "std_dev = arr.std()\n",
    "\n",
    "# Calculate the median (middle value) of the array\n",
    "median = np.median(arr)\n",
    "# Calculate the variance (measure of how far a set of numbers are spread out)\n",
    "variance = np.var(arr)\n",
    "\n",
    "argmax = np.argmax(arr)  # Index of the maximum value\n",
    "argmin = np.argmin(arr)  # Index of the minimum value"
   ]
  },
  {
   "cell_type": "code",
   "execution_count": null,
   "id": "f20a8a8f",
   "metadata": {},
   "outputs": [
    {
     "name": "stdout",
     "output_type": "stream",
     "text": [
      "4.923076923076923\n",
      "54432000\n",
      "2.8409515865568293\n",
      "5.0\n",
      "8.071005917159765\n",
      "12\n",
      "2\n"
     ]
    }
   ],
   "source": [
    "print(mean)\n",
    "print(prd)\n",
    "print(std_dev)\n",
    "print(median)\n",
    "print(variance)\n",
    "print(argmax)  \n",
    "print(argmin)  "
   ]
  },
  {
   "cell_type": "code",
   "execution_count": 6,
   "id": "1127c75b",
   "metadata": {},
   "outputs": [
    {
     "name": "stdout",
     "output_type": "stream",
     "text": [
      "[ 1  2  3  4  5  6  7  8  9 10]\n"
     ]
    }
   ],
   "source": [
    "unique_values = np.unique(arr)  # Unique values in the array\n",
    "print(unique_values)  "
   ]
  },
  {
   "cell_type": "code",
   "execution_count": 7,
   "id": "3ff02e07",
   "metadata": {},
   "outputs": [
    {
     "name": "stdout",
     "output_type": "stream",
     "text": [
      "[1.09861229 1.60943791 0.         1.09861229 0.         0.69314718\n",
      " 1.38629436 1.60943791 1.79175947 1.94591015 2.07944154 2.19722458\n",
      " 2.30258509]\n"
     ]
    }
   ],
   "source": [
    "# Compute the natural logarithm of an array.\n",
    "\n",
    "log = np.log(arr)\n",
    "print(log)  # Output: natural logarithm of each element in the array"
   ]
  },
  {
   "cell_type": "code",
   "execution_count": 8,
   "id": "a6f59718",
   "metadata": {},
   "outputs": [
    {
     "name": "stdout",
     "output_type": "stream",
     "text": [
      "[2.00855369e+01 1.48413159e+02 2.71828183e+00 2.00855369e+01\n",
      " 2.71828183e+00 7.38905610e+00 5.45981500e+01 1.48413159e+02\n",
      " 4.03428793e+02 1.09663316e+03 2.98095799e+03 8.10308393e+03\n",
      " 2.20264658e+04]\n"
     ]
    }
   ],
   "source": [
    "exp = np.exp(arr)  # Compute the exponential of each element in the array\n",
    "print(exp)  # Output: e raised to the power of each element in the array"
   ]
  },
  {
   "cell_type": "code",
   "execution_count": 9,
   "id": "a2453224",
   "metadata": {},
   "outputs": [
    {
     "data": {
      "text/plain": [
       "np.float64(5.0)"
      ]
     },
     "execution_count": 9,
     "metadata": {},
     "output_type": "execute_result"
    }
   ],
   "source": [
    "np.percentile(arr,50)"
   ]
  },
  {
   "cell_type": "code",
   "execution_count": 10,
   "id": "9faeec59",
   "metadata": {},
   "outputs": [
    {
     "data": {
      "text/plain": [
       "array([[1., 1.],\n",
       "       [1., 1.]])"
      ]
     },
     "execution_count": 10,
     "metadata": {},
     "output_type": "execute_result"
    }
   ],
   "source": [
    "np.corrcoef(arr, arr)  # Correlation coefficient of the array with itself"
   ]
  },
  {
   "cell_type": "code",
   "execution_count": 11,
   "id": "8a7d7792",
   "metadata": {},
   "outputs": [
    {
     "data": {
      "text/plain": [
       "array([ 3,  8,  9, 12, 13, 15, 19, 24, 30, 37, 45, 54, 64])"
      ]
     },
     "execution_count": 11,
     "metadata": {},
     "output_type": "execute_result"
    }
   ],
   "source": [
    "np.cumsum(arr)  # Cumulative sum of the array"
   ]
  },
  {
   "cell_type": "code",
   "execution_count": null,
   "id": "9ab24e63",
   "metadata": {},
   "outputs": [],
   "source": []
  }
 ],
 "metadata": {
  "kernelspec": {
   "display_name": "myenv",
   "language": "python",
   "name": "python3"
  },
  "language_info": {
   "codemirror_mode": {
    "name": "ipython",
    "version": 3
   },
   "file_extension": ".py",
   "mimetype": "text/x-python",
   "name": "python",
   "nbconvert_exporter": "python",
   "pygments_lexer": "ipython3",
   "version": "3.13.5"
  }
 },
 "nbformat": 4,
 "nbformat_minor": 5
}
